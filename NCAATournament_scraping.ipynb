{
 "cells": [
  {
   "cell_type": "markdown",
   "metadata": {},
   "source": [
    "# NCAA tournament data - webscraping"
   ]
  },
  {
   "cell_type": "code",
   "execution_count": null,
   "metadata": {
    "collapsed": true
   },
   "outputs": [],
   "source": [
    "#imports for webscraping\n",
    "from bs4 import BeautifulSoup\n",
    "from urllib.request import urlopen\n",
    "#for saving and load data files\n",
    "import pickle"
   ]
  },
  {
   "cell_type": "code",
   "execution_count": 2,
   "metadata": {
    "collapsed": true
   },
   "outputs": [],
   "source": [
    "#objects to store data\n",
    "tournamentGameData = {} #dictionary with year as key and value is a list of lists containing [team1,team2,overall score]\n",
    "#example: '2000': [['Duke', 'Lamar', 137], ['Kansas', 'DePaul', 158]]\n",
    "\n",
    "teamYearData = {} #dictionary with year as key and value is a dictionary with team as key and value in the form of [[team stats],[opponent stats]] \n",
    "#team/oppenent stats: [G, MP, FG, FGA, FG%, 2P, 2PA, 2P%, 3P, 3PA, 3P%, FT, FTA, FT%, ORB, DRB, TRB, AST, STL, BLK, TOV, PF, PTS, PTS/G]\n",
    "#example: '2000': {'Duke': [[34, '', 1045, 2172, 0.481, 761, 1430, 0.532, 284, 742, 0.383, 618, 833, 0.742, 453, 860, 1313, 584, 333, 191, 480, 552, 2992, 88.0], [34, '', 934, 2238, 0.417, 737, 1686, 0.437, 197, 552, 0.357, 360, 537, 0.67, 526, 757, 1283, 472, 240, 123, 607, 690, 2425, 71.3]]}"
   ]
  },
  {
   "cell_type": "code",
   "execution_count": null,
   "metadata": {
    "collapsed": true
   },
   "outputs": [],
   "source": [
    "#webscraping has already been run and the data is saved in files: tournamentGameData.pickle, teamYearData.pickle\n",
    "#open dicts from file\n",
    "\n",
    "pickle_in1 = open(\"tournamentGameData_real.pickle\",\"rb\")\n",
    "tournamentGameData = pickle.load(pickle_in1)\n",
    "\n",
    "pickle_in2 = open(\"teamYearData_real.pickle\",\"rb\")\n",
    "teamYearData = pickle.load(pickle_in2)"
   ]
  },
  {
   "cell_type": "code",
   "execution_count": null,
   "metadata": {
    "scrolled": false
   },
   "outputs": [],
   "source": [
    "#webscraping done here\n",
    "#runtime about a minute per year\n",
    "for i in range(2000,2018):\n",
    "    year = str(i)\n",
    "    print(year)\n",
    "    tournamentGameData[year] = []\n",
    "    teamYearData[year] = {}\n",
    "    \n",
    "    url ='https://www.sports-reference.com/cbb/postseason/'+year+'-ncaa.html'\n",
    "    html = urlopen(url)\n",
    "    soup = BeautifulSoup(html, 'html.parser')\n",
    "    numSchoolsAdded = 1\n",
    "    for tround in soup.findAll('div', attrs={'class':'round'}):\n",
    "        for game in tround.findAll('div',recursive=False):\n",
    "            gameDetails = game.findAll('a')\n",
    "            if len(gameDetails) > 3:\n",
    "                schools = [gameDetails[0].text.strip(),gameDetails[2].text.strip()]\n",
    "                gameData = [schools[0],schools[1],int(gameDetails[1].text.strip())+int(gameDetails[3].text.strip())]\n",
    "                tournamentGameData[year].append(gameData)\n",
    "                index = 0\n",
    "                for school in schools:\n",
    "                    if school not in teamYearData[year]:\n",
    "                        teamurl ='https://www.sports-reference.com'+gameDetails[index][\"href\"]\n",
    "                        teamhtml = urlopen(teamurl)\n",
    "                        teamsoup = BeautifulSoup(teamhtml, 'html.parser')\n",
    "                        table = teamsoup.find('table', attrs={'id':'team_stats'}).find('tbody')\n",
    "                        teamStats = []\n",
    "                        for row in table.findAll('tr'):\n",
    "                            temp = []\n",
    "                            if row.has_attr(\"class\"):\n",
    "                                continue\n",
    "                            for stat in row.findAll('td'):\n",
    "                                temp.append(stat.text.strip())\n",
    "                            teamStats.append(temp)\n",
    "                        teamYearData[year][school] = teamStats\n",
    "                        print(\"{}, \".format(numSchoolsAdded),end = \"\")\n",
    "                        numSchoolsAdded += 1\n",
    "                        index = index + 2\n",
    "    print(\"done\")        \n",
    "        \n",
    "print(\"done\")\n",
    "        "
   ]
  },
  {
   "cell_type": "code",
   "execution_count": null,
   "metadata": {
    "collapsed": true
   },
   "outputs": [],
   "source": [
    "#convert data from string to float/int, empty entries represented with ''\n",
    "for i in range(2000,2018):\n",
    "    year = str(i)\n",
    "    for team in teamYearData[year]:\n",
    "        newStats = []\n",
    "        for stats in teamYearData[year][team]:\n",
    "            index = 0\n",
    "            newStat = []\n",
    "            for stat in stats:\n",
    "                if stat != '':\n",
    "                    if index in [4,7,10,13,23]:\n",
    "                        newStat.append(float(stat))\n",
    "                    else:\n",
    "                        newStat.append(int(stat)) \n",
    "                else:\n",
    "                    newStat.append('')\n",
    "                index +=1\n",
    "            newStats.append(newStat)\n",
    "        teamYearData[year][team] = newStats"
   ]
  },
  {
   "cell_type": "code",
   "execution_count": null,
   "metadata": {
    "collapsed": true
   },
   "outputs": [],
   "source": [
    "#save dicts to file\n",
    "import pickle\n",
    "\n",
    "pickle_out1 = open(\"tournamentGameData.pickle\",\"wb\")\n",
    "pickle.dump(tournamentGameData, pickle_out1)\n",
    "pickle_out1.close()\n",
    "\n",
    "pickle_out2 = open(\"teamYearData.pickle\",\"wb\")\n",
    "pickle.dump(teamYearData, pickle_out2)\n",
    "pickle_out2.close()\n",
    "\n",
    "#how to load\n",
    "#pickle_in = open(\"dict.pickle\",\"rb\")\n",
    "#example_dict = pickle.load(pickle_in)"
   ]
  }
 ],
 "metadata": {
  "kernelspec": {
   "display_name": "Python 3",
   "language": "python",
   "name": "python3"
  },
  "language_info": {
   "codemirror_mode": {
    "name": "ipython",
    "version": 3
   },
   "file_extension": ".py",
   "mimetype": "text/x-python",
   "name": "python",
   "nbconvert_exporter": "python",
   "pygments_lexer": "ipython3",
   "version": "3.6.1"
  }
 },
 "nbformat": 4,
 "nbformat_minor": 2
}
