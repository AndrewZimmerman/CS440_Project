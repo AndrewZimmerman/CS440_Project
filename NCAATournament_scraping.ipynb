{
 "cells": [
  {
   "cell_type": "markdown",
   "metadata": {},
   "source": [
    "# NCAA tournament data - webscraping"
   ]
  },
  {
   "cell_type": "code",
   "execution_count": 1,
   "metadata": {
    "collapsed": true
   },
   "outputs": [],
   "source": [
    "#imports for webscraping\n",
    "from bs4 import BeautifulSoup\n",
    "from urllib.request import urlopen\n",
    "#for saving and load data files\n",
    "import pickle"
   ]
  },
  {
   "cell_type": "code",
   "execution_count": 2,
   "metadata": {
    "collapsed": true
   },
   "outputs": [],
   "source": [
    "### loading bar\n",
    "def log_progress(sequence, every=None, size=None, name='Items'):\n",
    "    from ipywidgets import IntProgress, HTML, VBox\n",
    "    from IPython.display import display\n",
    "\n",
    "    is_iterator = False\n",
    "    if size is None:\n",
    "        try:\n",
    "            size = len(sequence)\n",
    "        except TypeError:\n",
    "            is_iterator = True\n",
    "    if size is not None:\n",
    "        if every is None:\n",
    "            if size <= 200:\n",
    "                every = 1\n",
    "            else:\n",
    "                every = int(size / 200)     # every 0.5%\n",
    "    else:\n",
    "        assert every is not None, 'sequence is iterator, set every'\n",
    "\n",
    "    if is_iterator:\n",
    "        progress = IntProgress(min=0, max=1, value=1)\n",
    "        progress.bar_style = 'info'\n",
    "    else:\n",
    "        progress = IntProgress(min=0, max=size, value=0)\n",
    "    label = HTML()\n",
    "    box = VBox(children=[label, progress])\n",
    "    display(box)\n",
    "\n",
    "    index = 0\n",
    "    try:\n",
    "        for index, record in enumerate(sequence, 1):\n",
    "            if index == 1 or index % every == 0:\n",
    "                if is_iterator:\n",
    "                    label.value = '{name}: {index} / ?'.format(\n",
    "                        name=name,\n",
    "                        index=index\n",
    "                    )\n",
    "                else:\n",
    "                    progress.value = index\n",
    "                    label.value = u'{name}: {index} / {size}'.format(\n",
    "                        name=name,\n",
    "                        index=index,\n",
    "                        size=size\n",
    "                    )\n",
    "            yield record\n",
    "    except:\n",
    "        progress.bar_style = 'danger'\n",
    "        raise\n",
    "    else:\n",
    "        progress.bar_style = 'success'\n",
    "        progress.value = index\n",
    "        label.value = \"{name}: {index}\".format(\n",
    "            name=name,\n",
    "            index=str(index or '?')\n",
    "        )"
   ]
  },
  {
   "cell_type": "markdown",
   "metadata": {},
   "source": [
    "### Data Scraping Functions"
   ]
  },
  {
   "cell_type": "code",
   "execution_count": 3,
   "metadata": {
    "collapsed": true
   },
   "outputs": [],
   "source": [
    "baseURL = 'https://www.sports-reference.com'\n",
    "notAdded = []"
   ]
  },
  {
   "cell_type": "code",
   "execution_count": 4,
   "metadata": {
    "collapsed": true
   },
   "outputs": [],
   "source": [
    "#get tournament teams by year\n",
    "#tourneyTeamYear -- dictionary with year as key and value is list of teams in the tourney that year\n",
    "def getTourneyTeamYear(yearRange):\n",
    "    print(\"getting tournament teams by year\")\n",
    "    tourneyTeamYear = {}\n",
    "    \n",
    "    for i in range(yearRange[0],yearRange[1]+1):\n",
    "    \n",
    "        year = str(i)\n",
    "        print(year, end=\" \")\n",
    "        \n",
    "        tourneyTeamYear[year] = {}\n",
    "    \n",
    "        url =baseURL+'/cbb/postseason/'+year+'-ncaa.html'\n",
    "        html = urlopen(url)\n",
    "        soup = BeautifulSoup(html, 'html.parser')\n",
    "        for tround in soup.findAll('div', attrs={'class':'round'}):\n",
    "            for game in tround.findAll('div',recursive=False):\n",
    "                gameDetails = game.findAll('a')\n",
    "                if len(gameDetails) > 3:\n",
    "                    schools = [gameDetails[0].text.strip(),gameDetails[2].text.strip()]\n",
    "                    urls = [gameDetails[0][\"href\"],gameDetails[2][\"href\"]]\n",
    "                    if schools[0] not in tourneyTeamYear[year]:\n",
    "                        tourneyTeamYear[year][schools[0]] = urls[0]\n",
    "                    if schools[1] not in tourneyTeamYear[year]:\n",
    "                        tourneyTeamYear[year][schools[1]] = urls[1]\n",
    "\n",
    "        print(\"done\")        \n",
    "        \n",
    "    print(\"done\")\n",
    "    return tourneyTeamYear"
   ]
  },
  {
   "cell_type": "code",
   "execution_count": 5,
   "metadata": {
    "collapsed": true,
    "scrolled": true
   },
   "outputs": [],
   "source": [
    "#get teams played by tournament teams by year\n",
    "#allTeamYear\n",
    "def getAllTeamYear(yearRange,tourneyTeamYear):\n",
    "    print(\"getting teams played by tournament teams by year\")\n",
    "    allTeamYear = {}\n",
    "    \n",
    "    for i in range(yearRange[0],yearRange[1]+1):\n",
    "    \n",
    "        year = str(i)\n",
    "        print(year, end=\" \")\n",
    "    \n",
    "        allTeamYear[year] = {}\n",
    "    \n",
    "        for key, value in log_progress(tourneyTeamYear[year].items(),every=1):\n",
    "            if(key not in allTeamYear[year]):\n",
    "                allTeamYear[year][key] = value\n",
    "            teamURL =baseURL+value\n",
    "            teamhtml = urlopen(teamURL)\n",
    "            teamsoup = BeautifulSoup(teamhtml, 'html.parser')\n",
    "            gameSchedule = teamsoup.find('div', attrs={'id':'inner_nav'}).findAll('li')\n",
    "            gameScheduleLink = gameSchedule[2].find('a')\n",
    "            gameScheduleLink = gameScheduleLink[\"href\"]\n",
    "            \n",
    "            gameScheduleURL =baseURL+gameScheduleLink\n",
    "            gameSchedulehtml = urlopen(gameScheduleURL)\n",
    "            gameSchedulesoup = BeautifulSoup(gameSchedulehtml, 'html.parser')\n",
    "            tableRows = gameSchedulesoup.find('table', attrs={'id':'schedule'}).find('tbody').findAll('tr')\n",
    "            for row in tableRows:\n",
    "                team = row.findAll('td')\n",
    "                if year not in ['2015','2016','2017']:\n",
    "                    if team == None or len(team) < 4:\n",
    "                        continue\n",
    "                    team = team[3].find('a')\n",
    "                    if(team == None):\n",
    "                        continue\n",
    "                    teamName = team.text.strip()\n",
    "                    teamLink = team[\"href\"]\n",
    "                    if(teamName not in allTeamYear[year]):\n",
    "                        allTeamYear[year][teamName] = teamLink\n",
    "                else:\n",
    "                    if team == None or len(team) < 6:\n",
    "                        continue\n",
    "                    team = team[5].find('a')\n",
    "                    if(team == None):\n",
    "                        continue\n",
    "                    teamName = team.text.strip()\n",
    "                    teamLink = team[\"href\"]\n",
    "                    if(teamName not in allTeamYear[year]):\n",
    "                        allTeamYear[year][teamName] = teamLink\n",
    "        \n",
    "    print('done')\n",
    "    return allTeamYear"
   ]
  },
  {
   "cell_type": "code",
   "execution_count": 6,
   "metadata": {
    "collapsed": true
   },
   "outputs": [],
   "source": [
    "#get team stats for all teams (tournament team + the teams they played)\n",
    "#teamYearData --  dictionary with year as key and value is a dictionary with team as key and value in the form of [[team stats],[opponent stats]] \n",
    "#team/oppenent stats: [0G, 1MP, 2FG, 3FGA, 4FG%, 52P, 62PA, 72P%, 83P, 93PA, 103P%, 11FT, 12FTA, 13FT%, 14ORB, 15DRB, 16TRB, 17AST, 18STL, 19BLK, 20TOV, 21PF, 22PTS, 23PTS/G]\n",
    "#example: '2000': {'Duke': [[34, '', 1045, 2172, 0.481, 761, 1430, 0.532, 284, 742, 0.383, 618, 833, 0.742, 453, 860, 1313, 584, 333, 191, 480, 552, 2992, 88.0], [34, '', 934, 2238, 0.417, 737, 1686, 0.437, 197, 552, 0.357, 360, 537, 0.67, 526, 757, 1283, 472, 240, 123, 607, 690, 2425, 71.3]]}\n",
    "\n",
    "def getTeamYearData(yearRange,allTeamYear):\n",
    "    print(\"getting team stats for all teams (tournament team and the teams they played)\")\n",
    "    teamYearData = {}\n",
    "\n",
    "    for i in range(yearRange[0],yearRange[1]+1):\n",
    "    \n",
    "        year = str(i)\n",
    "        print(year, end=\" \")\n",
    "    \n",
    "        teamYearData[year] = {}\n",
    "    \n",
    "    \n",
    "        for key, value in log_progress(allTeamYear[year].items(),every=1):\n",
    "            if(key in teamYearData[year]):\n",
    "                continue\n",
    "            teamURL =baseURL+value\n",
    "            teamhtml = urlopen(teamURL)\n",
    "            teamsoup = BeautifulSoup(teamhtml, 'html.parser')\n",
    "            if(teamsoup.find('table', attrs={'id':'team_stats'})==None):\n",
    "                notAdded.append((key,year))\n",
    "                continue\n",
    "            table = teamsoup.find('table', attrs={'id':'team_stats'}).find('tbody')\n",
    "            teamStats = []\n",
    "            for row in table.findAll('tr'):\n",
    "                temp = []\n",
    "                if row.has_attr(\"class\"):\n",
    "                    continue\n",
    "                for stat in row.findAll('td'):\n",
    "                    temp.append(stat.text.strip())\n",
    "                teamStats.append(temp)\n",
    "            teamYearData[year][key] = teamStats\n",
    "                  \n",
    "    print('done')\n",
    "    \n",
    "    \n",
    "    #reformat teamYearData\n",
    "    #empty value represented with ''\n",
    "    print('reformatting data...')\n",
    "\n",
    "    for i in range(yearRange[0],yearRange[1]+1):\n",
    "        year = str(i)\n",
    "        for team in teamYearData[year]:\n",
    "            newStats = []\n",
    "            for stats in teamYearData[year][team]:\n",
    "                index = 0\n",
    "                newStat = []\n",
    "                for stat in stats:\n",
    "                    if stat != '':\n",
    "                        if index in [4,7,10,13,23]:\n",
    "                            newStat.append(float(stat))\n",
    "                        else:\n",
    "                            newStat.append(int(stat)) \n",
    "                    else:\n",
    "                        newStat.append('')\n",
    "                    index +=1\n",
    "                newStats.append(newStat)\n",
    "            teamYearData[year][team] = newStats\n",
    "    \n",
    "    print('done')\n",
    "    return teamYearData"
   ]
  },
  {
   "cell_type": "code",
   "execution_count": 7,
   "metadata": {
    "collapsed": true
   },
   "outputs": [],
   "source": [
    "#get game data for all games played by tournament teams\n",
    "#dictionary with year as key and value is a list of lists containing [team1,team2,overall score]\n",
    "#example: '2000': [['Duke', 'Lamar', 137], ['Kansas', 'DePaul', 158]]\n",
    "\n",
    "def getGameYearData(yearRange,tourneyTeamYear):\n",
    "    print(\"getting game data for all games played by tournament teams\")\n",
    "    gameYearDataWithDuplicates = {}\n",
    "    gameYearData = {}\n",
    "\n",
    "    for i in range(yearRange[0],yearRange[1]+1):\n",
    "    \n",
    "        year = str(i)\n",
    "        print(year, end=\" \")\n",
    "    \n",
    "        gameYearDataWithDuplicates[year] = []\n",
    "    \n",
    "        for key, value in log_progress(tourneyTeamYear[year].items(),every=1):\n",
    "            teamURL = baseURL+value\n",
    "            teamhtml = urlopen(teamURL)\n",
    "            teamsoup = BeautifulSoup(teamhtml, 'html.parser')\n",
    "            gameSchedule = teamsoup.find('div', attrs={'id':'inner_nav'}).findAll('li')\n",
    "            gameScheduleLink = gameSchedule[2].find('a')\n",
    "            gameScheduleLink = gameScheduleLink[\"href\"]\n",
    "            \n",
    "            gameScheduleURL =baseURL+gameScheduleLink\n",
    "            gameSchedulehtml = urlopen(gameScheduleURL)\n",
    "            gameSchedulesoup = BeautifulSoup(gameSchedulehtml, 'html.parser')\n",
    "            tableRows = gameSchedulesoup.find('table', attrs={'id':'schedule'}).find('tbody').findAll('tr')\n",
    "            for row in tableRows:\n",
    "                team = row.findAll('td')\n",
    "                if year not in ['2015','2016','2017']:\n",
    "                    if team == None or len(team) < 8:\n",
    "                        continue\n",
    "                    opponent = team[3].find('a')\n",
    "                    if(opponent == None):\n",
    "                        continue\n",
    "                    opponentTeamName = opponent.text.strip()\n",
    "            \n",
    "                    score1 = team[6].text.strip()\n",
    "                    score2 = team[7].text.strip()\n",
    "            \n",
    "                    game = [key,opponentTeamName,int(score1)+int(score2)]\n",
    "                    gameYearDataWithDuplicates[year].append(game)\n",
    "                else:\n",
    "                    if team == None or len(team) < 10:\n",
    "                        continue\n",
    "                    opponent = team[5].find('a')\n",
    "                    if(opponent == None):\n",
    "                        continue\n",
    "                    opponentTeamName = opponent.text.strip()\n",
    "            \n",
    "                    score1 = team[8].text.strip()\n",
    "                    score2 = team[9].text.strip()\n",
    "            \n",
    "                    game = [key,opponentTeamName,int(score1)+int(score2)]\n",
    "                    gameYearDataWithDuplicates[year].append(game)\n",
    "        \n",
    "        \n",
    "    print('done')\n",
    "\n",
    "    print('deleting duplicate games...')\n",
    "    #delete duplicates from gameYearData \n",
    "    for i in range(yearRange[0],yearRange[1]+1):\n",
    "    \n",
    "        year = str(i)\n",
    "    \n",
    "        gameYearData[year] = []\n",
    "    \n",
    "        for game in gameYearDataWithDuplicates[year]:\n",
    "            duplicate = False\n",
    "            for gameCompare in gameYearData[year]:\n",
    "                if game[2] == gameCompare[2]:\n",
    "                    if (game[0]==gameCompare[0] and game[1]==gameCompare[1]) or (game[1]==gameCompare[0] and game[0]==gameCompare[1]):\n",
    "                        duplicate = True\n",
    "            if not duplicate:\n",
    "                gameYearData[year].append(game)\n",
    "\n",
    "    print('done')\n",
    "    return gameYearData"
   ]
  },
  {
   "cell_type": "code",
   "execution_count": 13,
   "metadata": {
    "collapsed": true
   },
   "outputs": [],
   "source": [
    "#get game data for all games played in the tournament\n",
    "#dictionary with year as key and value is a list of lists containing [team1,team2,overall score] for everygame in the tournament\n",
    "#example: '2000': [['Duke', 'Lamar', 137], ['Kansas', 'DePaul', 158]]\n",
    "\n",
    "def getTournamentGameData(yearRange):\n",
    "\n",
    "    tournamentGameData = {}\n",
    "    \n",
    "    for i in range(yearRange[0],yearRange[1]+1):\n",
    "        year = str(i)\n",
    "        print(year, end =\" \")\n",
    "    \n",
    "        tournamentGameData[year] = []\n",
    "    \n",
    "        url =baseURL+'/cbb/postseason/'+year+'-ncaa.html'\n",
    "        html = urlopen(url)\n",
    "        soup = BeautifulSoup(html, 'html.parser')\n",
    "        numSchoolsAdded = 1\n",
    "        for tround in soup.findAll('div', attrs={'class':'round'}):\n",
    "            for game in tround.findAll('div',recursive=False):\n",
    "                gameDetails = game.findAll('a')\n",
    "                if len(gameDetails) > 3:\n",
    "                    schools = [gameDetails[0].text.strip(),gameDetails[2].text.strip()]\n",
    "                    gameData = [schools[0],schools[1],int(gameDetails[1].text.strip())+int(gameDetails[3].text.strip())]\n",
    "                    tournamentGameData[year].append(gameData)\n",
    "        print(\"done\")\n",
    "        \n",
    "    print(\"done\")            \n",
    "    return tournamentGameData"
   ]
  },
  {
   "cell_type": "markdown",
   "metadata": {},
   "source": [
    "### Data Scraping"
   ]
  },
  {
   "cell_type": "code",
   "execution_count": 8,
   "metadata": {
    "collapsed": true
   },
   "outputs": [],
   "source": [
    "yearRange = [1995,2017]"
   ]
  },
  {
   "cell_type": "code",
   "execution_count": 9,
   "metadata": {
    "scrolled": true
   },
   "outputs": [
    {
     "name": "stdout",
     "output_type": "stream",
     "text": [
      "getting tournament teams by year\n",
      "1995 done\n",
      "1996 done\n",
      "1997 done\n",
      "1998 done\n",
      "1999 done\n",
      "2000 done\n",
      "2001 done\n",
      "2002 done\n",
      "2003 done\n",
      "2004 done\n",
      "2005 done\n",
      "2006 done\n",
      "2007 done\n",
      "2008 done\n",
      "2009 done\n",
      "2010 done\n",
      "2011 done\n",
      "2012 done\n",
      "2013 done\n",
      "2014 done\n",
      "2015 done\n",
      "2016 done\n",
      "2017 done\n",
      "done\n"
     ]
    }
   ],
   "source": [
    "tourneyTeamYear = getTourneyTeamYear(yearRange) #dictionary with year as key and value is list of teams in the tourney that year\n",
    "#done for 1995-2017"
   ]
  },
  {
   "cell_type": "code",
   "execution_count": 10,
   "metadata": {
    "scrolled": true
   },
   "outputs": [
    {
     "name": "stdout",
     "output_type": "stream",
     "text": [
      "getting teams played by tournament teams by year\n",
      "1995 "
     ]
    },
    {
     "data": {
      "application/vnd.jupyter.widget-view+json": {
       "model_id": "71301a8f3faf4c5bb2dee3f4bf432343"
      }
     },
     "metadata": {},
     "output_type": "display_data"
    },
    {
     "name": "stdout",
     "output_type": "stream",
     "text": [
      "1996 "
     ]
    },
    {
     "data": {
      "application/vnd.jupyter.widget-view+json": {
       "model_id": "cc9ec2ca69c44e82a6bbc476c08887db"
      }
     },
     "metadata": {},
     "output_type": "display_data"
    },
    {
     "name": "stdout",
     "output_type": "stream",
     "text": [
      "1997 "
     ]
    },
    {
     "data": {
      "application/vnd.jupyter.widget-view+json": {
       "model_id": "fb99b8f5dd95447a8d47e95ba1ab7265"
      }
     },
     "metadata": {},
     "output_type": "display_data"
    },
    {
     "name": "stdout",
     "output_type": "stream",
     "text": [
      "1998 "
     ]
    },
    {
     "data": {
      "application/vnd.jupyter.widget-view+json": {
       "model_id": "6673271d9cff4654ae41afa5b2390ee5"
      }
     },
     "metadata": {},
     "output_type": "display_data"
    },
    {
     "name": "stdout",
     "output_type": "stream",
     "text": [
      "1999 "
     ]
    },
    {
     "data": {
      "application/vnd.jupyter.widget-view+json": {
       "model_id": "54b367fe59fa462fb07582a1a8f37596"
      }
     },
     "metadata": {},
     "output_type": "display_data"
    },
    {
     "name": "stdout",
     "output_type": "stream",
     "text": [
      "2000 "
     ]
    },
    {
     "data": {
      "application/vnd.jupyter.widget-view+json": {
       "model_id": "f29b82c6c6af40498e3a27c2bfe205a4"
      }
     },
     "metadata": {},
     "output_type": "display_data"
    },
    {
     "name": "stdout",
     "output_type": "stream",
     "text": [
      "2001 "
     ]
    },
    {
     "data": {
      "application/vnd.jupyter.widget-view+json": {
       "model_id": "9a04c61a7ce3411389be47c3016808fe"
      }
     },
     "metadata": {},
     "output_type": "display_data"
    },
    {
     "name": "stdout",
     "output_type": "stream",
     "text": [
      "2002 "
     ]
    },
    {
     "data": {
      "application/vnd.jupyter.widget-view+json": {
       "model_id": "e077f66cf6e341fea12272aba0eba409"
      }
     },
     "metadata": {},
     "output_type": "display_data"
    },
    {
     "name": "stdout",
     "output_type": "stream",
     "text": [
      "2003 "
     ]
    },
    {
     "data": {
      "application/vnd.jupyter.widget-view+json": {
       "model_id": "993a8a8be0d949c2934a88c9a9aac924"
      }
     },
     "metadata": {},
     "output_type": "display_data"
    },
    {
     "name": "stdout",
     "output_type": "stream",
     "text": [
      "2004 "
     ]
    },
    {
     "data": {
      "application/vnd.jupyter.widget-view+json": {
       "model_id": "0163326e6c3e49228cabf4d975074378"
      }
     },
     "metadata": {},
     "output_type": "display_data"
    },
    {
     "name": "stdout",
     "output_type": "stream",
     "text": [
      "2005 "
     ]
    },
    {
     "data": {
      "application/vnd.jupyter.widget-view+json": {
       "model_id": "cc2e641c33b845c7955848295e0b46b9"
      }
     },
     "metadata": {},
     "output_type": "display_data"
    },
    {
     "name": "stdout",
     "output_type": "stream",
     "text": [
      "2006 "
     ]
    },
    {
     "data": {
      "application/vnd.jupyter.widget-view+json": {
       "model_id": "58bac89878a84f9cb377c8141200e97f"
      }
     },
     "metadata": {},
     "output_type": "display_data"
    },
    {
     "name": "stdout",
     "output_type": "stream",
     "text": [
      "2007 "
     ]
    },
    {
     "data": {
      "application/vnd.jupyter.widget-view+json": {
       "model_id": "de84053ccc6a47a2b27936c3ad8522cc"
      }
     },
     "metadata": {},
     "output_type": "display_data"
    },
    {
     "name": "stdout",
     "output_type": "stream",
     "text": [
      "2008 "
     ]
    },
    {
     "data": {
      "application/vnd.jupyter.widget-view+json": {
       "model_id": "ab891f8b8db8435e97c9a8eea35b5353"
      }
     },
     "metadata": {},
     "output_type": "display_data"
    },
    {
     "name": "stdout",
     "output_type": "stream",
     "text": [
      "2009 "
     ]
    },
    {
     "data": {
      "application/vnd.jupyter.widget-view+json": {
       "model_id": "22fcf7a8b0f1447c8b31ede893ee0f64"
      }
     },
     "metadata": {},
     "output_type": "display_data"
    },
    {
     "name": "stdout",
     "output_type": "stream",
     "text": [
      "2010 "
     ]
    },
    {
     "data": {
      "application/vnd.jupyter.widget-view+json": {
       "model_id": "5db4926addbc405fbd2118ce5e6b066f"
      }
     },
     "metadata": {},
     "output_type": "display_data"
    },
    {
     "name": "stdout",
     "output_type": "stream",
     "text": [
      "2011 "
     ]
    },
    {
     "data": {
      "application/vnd.jupyter.widget-view+json": {
       "model_id": "526c4cca3bf044349bce3a9658090177"
      }
     },
     "metadata": {},
     "output_type": "display_data"
    },
    {
     "name": "stdout",
     "output_type": "stream",
     "text": [
      "2012 "
     ]
    },
    {
     "data": {
      "application/vnd.jupyter.widget-view+json": {
       "model_id": "1ada2c727e444337a9d091f00f5a69e3"
      }
     },
     "metadata": {},
     "output_type": "display_data"
    },
    {
     "name": "stdout",
     "output_type": "stream",
     "text": [
      "2013 "
     ]
    },
    {
     "data": {
      "application/vnd.jupyter.widget-view+json": {
       "model_id": "f520edf9908a4057b45e2e0ca1d921d2"
      }
     },
     "metadata": {},
     "output_type": "display_data"
    },
    {
     "name": "stdout",
     "output_type": "stream",
     "text": [
      "2014 "
     ]
    },
    {
     "data": {
      "application/vnd.jupyter.widget-view+json": {
       "model_id": "bb6a20ac7ed74e05b8c94b73cd08d9ee"
      }
     },
     "metadata": {},
     "output_type": "display_data"
    },
    {
     "name": "stdout",
     "output_type": "stream",
     "text": [
      "2015 "
     ]
    },
    {
     "data": {
      "application/vnd.jupyter.widget-view+json": {
       "model_id": "6291c91b58db446189355c94f9e99fdc"
      }
     },
     "metadata": {},
     "output_type": "display_data"
    },
    {
     "name": "stdout",
     "output_type": "stream",
     "text": [
      "2016 "
     ]
    },
    {
     "data": {
      "application/vnd.jupyter.widget-view+json": {
       "model_id": "5d3f98269af24328976f21bc7250caf2"
      }
     },
     "metadata": {},
     "output_type": "display_data"
    },
    {
     "name": "stdout",
     "output_type": "stream",
     "text": [
      "2017 "
     ]
    },
    {
     "data": {
      "application/vnd.jupyter.widget-view+json": {
       "model_id": "9d32b2d05f1f44a6a7073cb79797d9c3"
      }
     },
     "metadata": {},
     "output_type": "display_data"
    },
    {
     "name": "stdout",
     "output_type": "stream",
     "text": [
      "done\n"
     ]
    }
   ],
   "source": [
    "allTeamYear = getAllTeamYear(yearRange,tourneyTeamYear) #dictionary -- all teams played by tournament teams by year\n",
    "#done for 1995-2017"
   ]
  },
  {
   "cell_type": "code",
   "execution_count": 11,
   "metadata": {
    "scrolled": true
   },
   "outputs": [
    {
     "name": "stdout",
     "output_type": "stream",
     "text": [
      "getting game data for all games played by tournament teams\n",
      "1995 "
     ]
    },
    {
     "data": {
      "application/vnd.jupyter.widget-view+json": {
       "model_id": "b77e14bf59b847fc81ff779908c21690"
      }
     },
     "metadata": {},
     "output_type": "display_data"
    },
    {
     "name": "stdout",
     "output_type": "stream",
     "text": [
      "1996 "
     ]
    },
    {
     "data": {
      "application/vnd.jupyter.widget-view+json": {
       "model_id": "672d81275f48474d8f8c9dd35dfe2d9d"
      }
     },
     "metadata": {},
     "output_type": "display_data"
    },
    {
     "name": "stdout",
     "output_type": "stream",
     "text": [
      "1997 "
     ]
    },
    {
     "data": {
      "application/vnd.jupyter.widget-view+json": {
       "model_id": "c7b332ecb57d46f58ee930434612c10d"
      }
     },
     "metadata": {},
     "output_type": "display_data"
    },
    {
     "name": "stdout",
     "output_type": "stream",
     "text": [
      "1998 "
     ]
    },
    {
     "data": {
      "application/vnd.jupyter.widget-view+json": {
       "model_id": "74432cea7aeb4beeb9e146f45ba8f5d4"
      }
     },
     "metadata": {},
     "output_type": "display_data"
    },
    {
     "name": "stdout",
     "output_type": "stream",
     "text": [
      "1999 "
     ]
    },
    {
     "data": {
      "application/vnd.jupyter.widget-view+json": {
       "model_id": "eb8d2f03ffce4a44b21f3caf0609f3f2"
      }
     },
     "metadata": {},
     "output_type": "display_data"
    },
    {
     "name": "stdout",
     "output_type": "stream",
     "text": [
      "2000 "
     ]
    },
    {
     "data": {
      "application/vnd.jupyter.widget-view+json": {
       "model_id": "6e75d5afb97649ba80fa65b184fb104f"
      }
     },
     "metadata": {},
     "output_type": "display_data"
    },
    {
     "name": "stdout",
     "output_type": "stream",
     "text": [
      "2001 "
     ]
    },
    {
     "data": {
      "application/vnd.jupyter.widget-view+json": {
       "model_id": "1619aaf425c345e0a3d2ae7b2584cb4d"
      }
     },
     "metadata": {},
     "output_type": "display_data"
    },
    {
     "name": "stdout",
     "output_type": "stream",
     "text": [
      "2002 "
     ]
    },
    {
     "data": {
      "application/vnd.jupyter.widget-view+json": {
       "model_id": "2d08508f047d470e90d7f974329a2689"
      }
     },
     "metadata": {},
     "output_type": "display_data"
    },
    {
     "name": "stdout",
     "output_type": "stream",
     "text": [
      "2003 "
     ]
    },
    {
     "data": {
      "application/vnd.jupyter.widget-view+json": {
       "model_id": "81f907d5a3324a4492c6416f83e1de8f"
      }
     },
     "metadata": {},
     "output_type": "display_data"
    },
    {
     "name": "stdout",
     "output_type": "stream",
     "text": [
      "2004 "
     ]
    },
    {
     "data": {
      "application/vnd.jupyter.widget-view+json": {
       "model_id": "57c353d3ac7440eeaec8e4f7784460d7"
      }
     },
     "metadata": {},
     "output_type": "display_data"
    },
    {
     "name": "stdout",
     "output_type": "stream",
     "text": [
      "2005 "
     ]
    },
    {
     "data": {
      "application/vnd.jupyter.widget-view+json": {
       "model_id": "e3451503c79f48bc83459022fb6de334"
      }
     },
     "metadata": {},
     "output_type": "display_data"
    },
    {
     "name": "stdout",
     "output_type": "stream",
     "text": [
      "2006 "
     ]
    },
    {
     "data": {
      "application/vnd.jupyter.widget-view+json": {
       "model_id": "89c2af339e7b4afb93df5d381f069a3e"
      }
     },
     "metadata": {},
     "output_type": "display_data"
    },
    {
     "name": "stdout",
     "output_type": "stream",
     "text": [
      "2007 "
     ]
    },
    {
     "data": {
      "application/vnd.jupyter.widget-view+json": {
       "model_id": "d6cdf5d4d3494fa4a48d7e0ceb1df1bc"
      }
     },
     "metadata": {},
     "output_type": "display_data"
    },
    {
     "name": "stdout",
     "output_type": "stream",
     "text": [
      "2008 "
     ]
    },
    {
     "data": {
      "application/vnd.jupyter.widget-view+json": {
       "model_id": "9ca1f56554e84ae18f1ccab62d3a78b8"
      }
     },
     "metadata": {},
     "output_type": "display_data"
    },
    {
     "name": "stdout",
     "output_type": "stream",
     "text": [
      "2009 "
     ]
    },
    {
     "data": {
      "application/vnd.jupyter.widget-view+json": {
       "model_id": "ae32b79727444becb0b68a8bad747eff"
      }
     },
     "metadata": {},
     "output_type": "display_data"
    },
    {
     "name": "stdout",
     "output_type": "stream",
     "text": [
      "2010 "
     ]
    },
    {
     "data": {
      "application/vnd.jupyter.widget-view+json": {
       "model_id": "71ba39bfd30d45e3951f2661b4ecedb5"
      }
     },
     "metadata": {},
     "output_type": "display_data"
    },
    {
     "name": "stdout",
     "output_type": "stream",
     "text": [
      "2011 "
     ]
    },
    {
     "data": {
      "application/vnd.jupyter.widget-view+json": {
       "model_id": "0ab16bc61a994af5bbf736c6b0f2ac5e"
      }
     },
     "metadata": {},
     "output_type": "display_data"
    },
    {
     "name": "stdout",
     "output_type": "stream",
     "text": [
      "2012 "
     ]
    },
    {
     "data": {
      "application/vnd.jupyter.widget-view+json": {
       "model_id": "17996c745b034feb845308f420d7ac26"
      }
     },
     "metadata": {},
     "output_type": "display_data"
    },
    {
     "name": "stdout",
     "output_type": "stream",
     "text": [
      "2013 "
     ]
    },
    {
     "data": {
      "application/vnd.jupyter.widget-view+json": {
       "model_id": "3675d2f8e90c41ef9ca38b16d65eccb7"
      }
     },
     "metadata": {},
     "output_type": "display_data"
    },
    {
     "name": "stdout",
     "output_type": "stream",
     "text": [
      "2014 "
     ]
    },
    {
     "data": {
      "application/vnd.jupyter.widget-view+json": {
       "model_id": "f5ebfc0aa74341f094a90e924412e4fd"
      }
     },
     "metadata": {},
     "output_type": "display_data"
    },
    {
     "name": "stdout",
     "output_type": "stream",
     "text": [
      "2015 "
     ]
    },
    {
     "data": {
      "application/vnd.jupyter.widget-view+json": {
       "model_id": "b93d0c4d73f24698a0f4277349fcc992"
      }
     },
     "metadata": {},
     "output_type": "display_data"
    },
    {
     "name": "stdout",
     "output_type": "stream",
     "text": [
      "2016 "
     ]
    },
    {
     "data": {
      "application/vnd.jupyter.widget-view+json": {
       "model_id": "f6f90651302147a3a9641b3f65bcf4c5"
      }
     },
     "metadata": {},
     "output_type": "display_data"
    },
    {
     "name": "stdout",
     "output_type": "stream",
     "text": [
      "2017 "
     ]
    },
    {
     "data": {
      "application/vnd.jupyter.widget-view+json": {
       "model_id": "66548b1012e1439894092966d16ade21"
      }
     },
     "metadata": {},
     "output_type": "display_data"
    },
    {
     "name": "stdout",
     "output_type": "stream",
     "text": [
      "done\n",
      "deleting duplicate games...\n",
      "done\n"
     ]
    }
   ],
   "source": [
    "gameYearData = getGameYearData(yearRange,tourneyTeamYear)#dictionary with year as key and value is a list of lists containing [team1,team2,overall score]\n",
    "#example: '2000': [['Duke', 'Lamar', 137], ['Kansas', 'DePaul', 158]]"
   ]
  },
  {
   "cell_type": "code",
   "execution_count": 12,
   "metadata": {
    "scrolled": true
   },
   "outputs": [
    {
     "name": "stdout",
     "output_type": "stream",
     "text": [
      "getting team stats for all teams (tournament team and the teams they played)\n",
      "1995 "
     ]
    },
    {
     "data": {
      "application/vnd.jupyter.widget-view+json": {
       "model_id": "e9bd83e6f758446aa0656b4bbbfb8e2f"
      }
     },
     "metadata": {},
     "output_type": "display_data"
    },
    {
     "name": "stdout",
     "output_type": "stream",
     "text": [
      "1996 "
     ]
    },
    {
     "data": {
      "application/vnd.jupyter.widget-view+json": {
       "model_id": "f767e670791e4007ae2278182118b578"
      }
     },
     "metadata": {},
     "output_type": "display_data"
    },
    {
     "name": "stdout",
     "output_type": "stream",
     "text": [
      "1997 "
     ]
    },
    {
     "data": {
      "application/vnd.jupyter.widget-view+json": {
       "model_id": "6f5651beaf7f42198a3870fd1063406c"
      }
     },
     "metadata": {},
     "output_type": "display_data"
    },
    {
     "name": "stdout",
     "output_type": "stream",
     "text": [
      "1998 "
     ]
    },
    {
     "data": {
      "application/vnd.jupyter.widget-view+json": {
       "model_id": "db9d81f0852c4cf3952421ef55925713"
      }
     },
     "metadata": {},
     "output_type": "display_data"
    },
    {
     "name": "stdout",
     "output_type": "stream",
     "text": [
      "1999 "
     ]
    },
    {
     "data": {
      "application/vnd.jupyter.widget-view+json": {
       "model_id": "2af62779764349bb99d82130e3566d06"
      }
     },
     "metadata": {},
     "output_type": "display_data"
    },
    {
     "name": "stdout",
     "output_type": "stream",
     "text": [
      "2000 "
     ]
    },
    {
     "data": {
      "application/vnd.jupyter.widget-view+json": {
       "model_id": "50a5eab9fcf24c9fab77f598854c862e"
      }
     },
     "metadata": {},
     "output_type": "display_data"
    },
    {
     "name": "stdout",
     "output_type": "stream",
     "text": [
      "2001 "
     ]
    },
    {
     "data": {
      "application/vnd.jupyter.widget-view+json": {
       "model_id": "8d1068e2de0446659c13d10acd5a3f7d"
      }
     },
     "metadata": {},
     "output_type": "display_data"
    },
    {
     "name": "stdout",
     "output_type": "stream",
     "text": [
      "2002 "
     ]
    },
    {
     "data": {
      "application/vnd.jupyter.widget-view+json": {
       "model_id": "0ef77e2b567c4287be4872444facf2b7"
      }
     },
     "metadata": {},
     "output_type": "display_data"
    },
    {
     "name": "stdout",
     "output_type": "stream",
     "text": [
      "2003 "
     ]
    },
    {
     "data": {
      "application/vnd.jupyter.widget-view+json": {
       "model_id": "459ca85849d54702b169a5fde502ed71"
      }
     },
     "metadata": {},
     "output_type": "display_data"
    },
    {
     "name": "stdout",
     "output_type": "stream",
     "text": [
      "2004 "
     ]
    },
    {
     "data": {
      "application/vnd.jupyter.widget-view+json": {
       "model_id": "fe5024955c564581851ec165077e0ad0"
      }
     },
     "metadata": {},
     "output_type": "display_data"
    },
    {
     "name": "stdout",
     "output_type": "stream",
     "text": [
      "2005 "
     ]
    },
    {
     "data": {
      "application/vnd.jupyter.widget-view+json": {
       "model_id": "80ae3a30213d4789bfea551b3d2cad7b"
      }
     },
     "metadata": {},
     "output_type": "display_data"
    },
    {
     "name": "stdout",
     "output_type": "stream",
     "text": [
      "2006 "
     ]
    },
    {
     "data": {
      "application/vnd.jupyter.widget-view+json": {
       "model_id": "1813e2aa5c38489c8b21b0980c9f28c7"
      }
     },
     "metadata": {},
     "output_type": "display_data"
    },
    {
     "name": "stdout",
     "output_type": "stream",
     "text": [
      "2007 "
     ]
    },
    {
     "data": {
      "application/vnd.jupyter.widget-view+json": {
       "model_id": "8cae44c365e3486bb7cec09c1fb89d6e"
      }
     },
     "metadata": {},
     "output_type": "display_data"
    },
    {
     "name": "stdout",
     "output_type": "stream",
     "text": [
      "2008 "
     ]
    },
    {
     "data": {
      "application/vnd.jupyter.widget-view+json": {
       "model_id": "c2c9121c5f894b969c57df0d99e94a79"
      }
     },
     "metadata": {},
     "output_type": "display_data"
    },
    {
     "name": "stdout",
     "output_type": "stream",
     "text": [
      "2009 "
     ]
    },
    {
     "data": {
      "application/vnd.jupyter.widget-view+json": {
       "model_id": "c6fab39c6f01483fb256c6528a16cf5a"
      }
     },
     "metadata": {},
     "output_type": "display_data"
    },
    {
     "name": "stdout",
     "output_type": "stream",
     "text": [
      "2010 "
     ]
    },
    {
     "data": {
      "application/vnd.jupyter.widget-view+json": {
       "model_id": "3d0de4fa678347ec9d3132de365c9a67"
      }
     },
     "metadata": {},
     "output_type": "display_data"
    },
    {
     "name": "stdout",
     "output_type": "stream",
     "text": [
      "2011 "
     ]
    },
    {
     "data": {
      "application/vnd.jupyter.widget-view+json": {
       "model_id": "315bf0e2ee0340f6bd06ce7ff578d742"
      }
     },
     "metadata": {},
     "output_type": "display_data"
    },
    {
     "name": "stdout",
     "output_type": "stream",
     "text": [
      "2012 "
     ]
    },
    {
     "data": {
      "application/vnd.jupyter.widget-view+json": {
       "model_id": "fa9342aeed6e49fd894b20ac24bcb718"
      }
     },
     "metadata": {},
     "output_type": "display_data"
    },
    {
     "name": "stdout",
     "output_type": "stream",
     "text": [
      "2013 "
     ]
    },
    {
     "data": {
      "application/vnd.jupyter.widget-view+json": {
       "model_id": "40d0f1ea89ff4f639e1baec9a9ec819a"
      }
     },
     "metadata": {},
     "output_type": "display_data"
    },
    {
     "name": "stdout",
     "output_type": "stream",
     "text": [
      "2014 "
     ]
    },
    {
     "data": {
      "application/vnd.jupyter.widget-view+json": {
       "model_id": "c008f874a150417498c569fc37665027"
      }
     },
     "metadata": {},
     "output_type": "display_data"
    },
    {
     "name": "stdout",
     "output_type": "stream",
     "text": [
      "2015 "
     ]
    },
    {
     "data": {
      "application/vnd.jupyter.widget-view+json": {
       "model_id": "62dda46702204b9f8e509bc511d986ee"
      }
     },
     "metadata": {},
     "output_type": "display_data"
    },
    {
     "name": "stdout",
     "output_type": "stream",
     "text": [
      "2016 "
     ]
    },
    {
     "data": {
      "application/vnd.jupyter.widget-view+json": {
       "model_id": "c2c3bdf52cdb4495b6a0206c30581514"
      }
     },
     "metadata": {},
     "output_type": "display_data"
    },
    {
     "name": "stdout",
     "output_type": "stream",
     "text": [
      "2017 "
     ]
    },
    {
     "data": {
      "application/vnd.jupyter.widget-view+json": {
       "model_id": "e4629748aab943519cd81cd1f0e65135"
      }
     },
     "metadata": {},
     "output_type": "display_data"
    },
    {
     "name": "stdout",
     "output_type": "stream",
     "text": [
      "done\n",
      "reformatting data...\n",
      "done\n"
     ]
    }
   ],
   "source": [
    "teamYearData = getTeamYearData(yearRange,allTeamYear)#teamYearData --  dictionary with year as key and value is a dictionary with team as key and value in the form of [[team stats],[opponent stats]] \n",
    "#team/oppenent stats: [0G, 1MP, 2FG, 3FGA, 4FG%, 52P, 62PA, 72P%, 83P, 93PA, 103P%, 11FT, 12FTA, 13FT%, 14ORB, 15DRB, 16TRB, 17AST, 18STL, 19BLK, 20TOV, 21PF, 22PTS, 23PTS/G]\n"
   ]
  },
  {
   "cell_type": "code",
   "execution_count": 14,
   "metadata": {
    "scrolled": true
   },
   "outputs": [
    {
     "name": "stdout",
     "output_type": "stream",
     "text": [
      "1995 done\n",
      "1996 done\n",
      "1997 done\n",
      "1998 done\n",
      "1999 done\n",
      "2000 done\n",
      "2001 done\n",
      "2002 done\n",
      "2003 done\n",
      "2004 done\n",
      "2005 done\n",
      "2006 done\n",
      "2007 done\n",
      "2008 done\n",
      "2009 done\n",
      "2010 done\n",
      "2011 done\n",
      "2012 done\n",
      "2013 done\n",
      "2014 done\n",
      "2015 done\n",
      "2016 done\n",
      "2017 done\n",
      "done\n"
     ]
    }
   ],
   "source": [
    "tournamentGameData = getTournamentGameData(yearRange)#dictionary with year as key and value is a list of lists containing [team1,team2,overall score] for everygame in the tournament"
   ]
  },
  {
   "cell_type": "markdown",
   "metadata": {},
   "source": [
    "### Testing Scraped Data"
   ]
  },
  {
   "cell_type": "code",
   "execution_count": 15,
   "metadata": {
    "collapsed": true
   },
   "outputs": [],
   "source": [
    "testYear = '2015'"
   ]
  },
  {
   "cell_type": "code",
   "execution_count": 16,
   "metadata": {},
   "outputs": [
    {
     "data": {
      "text/plain": [
       "[]"
      ]
     },
     "execution_count": 16,
     "metadata": {},
     "output_type": "execute_result"
    }
   ],
   "source": [
    "notAdded"
   ]
  },
  {
   "cell_type": "code",
   "execution_count": 17,
   "metadata": {},
   "outputs": [
    {
     "data": {
      "text/plain": [
       "64"
      ]
     },
     "execution_count": 17,
     "metadata": {},
     "output_type": "execute_result"
    }
   ],
   "source": [
    "len(tourneyTeamYear[testYear])"
   ]
  },
  {
   "cell_type": "code",
   "execution_count": 18,
   "metadata": {},
   "outputs": [
    {
     "data": {
      "text/plain": [
       "354"
      ]
     },
     "execution_count": 18,
     "metadata": {},
     "output_type": "execute_result"
    }
   ],
   "source": [
    "len(allTeamYear[testYear])"
   ]
  },
  {
   "cell_type": "code",
   "execution_count": 19,
   "metadata": {},
   "outputs": [
    {
     "data": {
      "text/plain": [
       "63"
      ]
     },
     "execution_count": 19,
     "metadata": {},
     "output_type": "execute_result"
    }
   ],
   "source": [
    "len(tournamentGameData[testYear])"
   ]
  },
  {
   "cell_type": "code",
   "execution_count": 20,
   "metadata": {},
   "outputs": [
    {
     "data": {
      "text/plain": [
       "354"
      ]
     },
     "execution_count": 20,
     "metadata": {},
     "output_type": "execute_result"
    }
   ],
   "source": [
    "#for team, value in teamYearData[testYear].items():\n",
    "    #print(team,value)\n",
    "len(teamYearData[testYear])    "
   ]
  },
  {
   "cell_type": "code",
   "execution_count": 21,
   "metadata": {},
   "outputs": [
    {
     "data": {
      "text/plain": [
       "1894"
      ]
     },
     "execution_count": 21,
     "metadata": {},
     "output_type": "execute_result"
    }
   ],
   "source": [
    "#for game in gameYearData[testYear]:\n",
    "#    print(game)\n",
    "len(gameYearData[testYear])"
   ]
  },
  {
   "cell_type": "markdown",
   "metadata": {},
   "source": [
    "### Saving Scraped Data"
   ]
  },
  {
   "cell_type": "code",
   "execution_count": 22,
   "metadata": {
    "collapsed": true
   },
   "outputs": [],
   "source": [
    "#save dicts to file\n",
    "import pickle"
   ]
  },
  {
   "cell_type": "code",
   "execution_count": 23,
   "metadata": {
    "collapsed": true
   },
   "outputs": [],
   "source": [
    "pickle_out = open(\"tourneyTeamYear.pickle\",\"wb\")\n",
    "pickle.dump(tourneyTeamYear, pickle_out)\n",
    "pickle_out.close()"
   ]
  },
  {
   "cell_type": "code",
   "execution_count": 24,
   "metadata": {
    "collapsed": true
   },
   "outputs": [],
   "source": [
    "pickle_out = open(\"allTeamYear.pickle\",\"wb\")\n",
    "pickle.dump(allTeamYear, pickle_out)\n",
    "pickle_out.close()"
   ]
  },
  {
   "cell_type": "code",
   "execution_count": 25,
   "metadata": {
    "collapsed": true
   },
   "outputs": [],
   "source": [
    "pickle_out = open(\"gameYearData.pickle\",\"wb\")\n",
    "pickle.dump(gameYearData, pickle_out)\n",
    "pickle_out.close()"
   ]
  },
  {
   "cell_type": "code",
   "execution_count": 26,
   "metadata": {
    "collapsed": true
   },
   "outputs": [],
   "source": [
    "pickle_out = open(\"teamYearData.pickle\",\"wb\")\n",
    "pickle.dump(teamYearData, pickle_out)\n",
    "pickle_out.close()"
   ]
  },
  {
   "cell_type": "code",
   "execution_count": 27,
   "metadata": {
    "collapsed": true
   },
   "outputs": [],
   "source": [
    "pickle_out = open(\"tournamentGameData.pickle\",\"wb\")\n",
    "pickle.dump(tournamentGameData, pickle_out)\n",
    "pickle_out.close()"
   ]
  },
  {
   "cell_type": "code",
   "execution_count": null,
   "metadata": {
    "collapsed": true
   },
   "outputs": [],
   "source": [
    "#how to load\n",
    "#pickle_in = open(\"dict.pickle\",\"rb\")\n",
    "#example_dict = pickle.load(pickle_in)"
   ]
  }
 ],
 "metadata": {
  "kernelspec": {
   "display_name": "Python 3",
   "language": "python",
   "name": "python3"
  },
  "language_info": {
   "codemirror_mode": {
    "name": "ipython",
    "version": 3
   },
   "file_extension": ".py",
   "mimetype": "text/x-python",
   "name": "python",
   "nbconvert_exporter": "python",
   "pygments_lexer": "ipython3",
   "version": "3.6.1"
  }
 },
 "nbformat": 4,
 "nbformat_minor": 2
}
